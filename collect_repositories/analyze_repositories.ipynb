{
 "cells": [
  {
   "cell_type": "markdown",
   "metadata": {},
   "source": [
    "# Analysis of repository collection\n",
    "\n",
    "In this notebook, the retrieved results of the repository collection is analyzed."
   ]
  },
  {
   "cell_type": "code",
   "execution_count": null,
   "metadata": {},
   "outputs": [],
   "source": [
    "from datetime import date\n",
    "import os\n",
    "import statistics\n",
    "from pathlib import Path\n",
    "from pprint import pprint\n",
    "\n",
    "import pandas as pd\n",
    "from pandas.plotting import table \n",
    "import matplotlib.pyplot as plt\n",
    "import matplotlib.table as table\n",
    "import seaborn as sns"
   ]
  },
  {
   "cell_type": "code",
   "execution_count": null,
   "metadata": {},
   "outputs": [],
   "source": [
    "plt.rcParams['figure.figsize'] = [12, 8]"
   ]
  },
  {
   "cell_type": "markdown",
   "metadata": {},
   "source": [
    "Folders and constants"
   ]
  },
  {
   "cell_type": "code",
   "execution_count": null,
   "metadata": {},
   "outputs": [],
   "source": [
    "subset = \"all\"  # \"user\", \"group\", \"all\"\n",
    "\n",
    "# file paths\n",
    "fp_repos = Path(\"results\", \"repositories_filtered.csv\")\n",
    "fp_figs = Path(\"figs\")\n",
    "\n",
    "# create output folder if not exists\n",
    "fp_figs.mkdir(exist_ok=True)"
   ]
  },
  {
   "cell_type": "markdown",
   "metadata": {},
   "source": [
    "## Load filtered repositories\n",
    "\n",
    "Load (manually) filtered repositories into notebook."
   ]
  },
  {
   "cell_type": "code",
   "execution_count": null,
   "metadata": {},
   "outputs": [],
   "source": [
    "repos = pd.read_csv(fp_repos)"
   ]
  },
  {
   "cell_type": "markdown",
   "metadata": {},
   "source": [
    "## Filtering for research groups or private users only"
   ]
  },
  {
   "cell_type": "code",
   "execution_count": null,
   "metadata": {},
   "outputs": [],
   "source": [
    "users = pd.read_excel(\"../collect_users/results/users_enriched.xlsx\")"
   ]
  },
  {
   "cell_type": "code",
   "execution_count": null,
   "metadata": {},
   "outputs": [],
   "source": [
    "# TODO: replace by join?\n",
    "def add_research_group_filter(dataset):\n",
    "    user_is_research_group = []\n",
    "    for row in dataset.iterrows():\n",
    "        try:\n",
    "            owner = row[1]['owner']\n",
    "        except:\n",
    "            owner = row[1]['html_url_repository'].split('/')[-2]\n",
    "            \n",
    "            \n",
    "      \n",
    "        row_users = users.loc[users['user_id'] == owner]\n",
    "        if len(row_users['is_research_group']) == 0:\n",
    "            user_is_research_group.append(False)\n",
    "        for i in row_users['is_research_group']:\n",
    "            if i == 1:\n",
    "                user_is_research_group.append(True)\n",
    "                break\n",
    "            else:\n",
    "                user_is_research_group.append(False)\n",
    "                break\n",
    "                    \n",
    "    return user_is_research_group\n",
    "    "
   ]
  },
  {
   "cell_type": "code",
   "execution_count": null,
   "metadata": {},
   "outputs": [],
   "source": [
    "repos['is_research_group'] = add_research_group_filter(repos)"
   ]
  },
  {
   "cell_type": "markdown",
   "metadata": {},
   "source": [
    "## Subset repositories\n",
    "\n",
    "Make a subset of repositories on \"user\", \"group\", or \"all\".\n",
    "- \"user\" - Account of individual researcher\n",
    "- \"group\" - Account of research group\n",
    "- \"all\" - Both individual researcher or research group"
   ]
  },
  {
   "cell_type": "code",
   "execution_count": null,
   "metadata": {},
   "outputs": [],
   "source": [
    "if subset == \"user\":\n",
    "    repos = repos[~repos['is_research_group']]\n",
    "elif subset == \"group\":\n",
    "    repos = repos[repos['is_research_group']]"
   ]
  },
  {
   "cell_type": "markdown",
   "metadata": {},
   "source": [
    "## Datasets"
   ]
  },
  {
   "cell_type": "markdown",
   "metadata": {},
   "source": [
    "Using the github API, metadata on the repositories was collected. "
   ]
  },
  {
   "cell_type": "code",
   "execution_count": null,
   "metadata": {},
   "outputs": [],
   "source": [
    "print(\"The repository data from Github contains the following columns:\")\n",
    "pprint(repos.columns.tolist())"
   ]
  },
  {
   "cell_type": "markdown",
   "metadata": {},
   "source": [
    "## Stargazers\n",
    "\n",
    "Stargazers represent the amount of people that have 'starred' a Github project. Starring a project can indicate that a user likes the project. It can also be used to bookmark a project, since starred projects are saved. The amount of stargazers can be used as a metric to measure popularity. "
   ]
  },
  {
   "cell_type": "code",
   "execution_count": null,
   "metadata": {},
   "outputs": [],
   "source": [
    "repos['stargazers_count'].plot(kind = 'hist', fontsize = 12, title = 'Number of stargazers per repository', bins = 100)\n",
    "plt.savefig(Path(fp_figs, f'stargazers_{subset}.png'))\n"
   ]
  },
  {
   "cell_type": "code",
   "execution_count": null,
   "metadata": {},
   "outputs": [],
   "source": [
    "repos.nlargest(10, 'stargazers_count')"
   ]
  },
  {
   "cell_type": "markdown",
   "metadata": {},
   "source": [
    "## Watchers\n",
    "\n",
    "Watchers receive  notifications about project activity."
   ]
  },
  {
   "cell_type": "code",
   "execution_count": null,
   "metadata": {},
   "outputs": [],
   "source": [
    "repos['watchers_count'].plot.hist(fontsize = 12, title = 'Number of watchers per repository', bins = 128)\n",
    "plt.savefig(Path(fp_figs, f'watchers_{subset}.png'))"
   ]
  },
  {
   "cell_type": "code",
   "execution_count": null,
   "metadata": {},
   "outputs": [],
   "source": [
    "repos.nlargest(10, 'watchers_count')"
   ]
  },
  {
   "cell_type": "markdown",
   "metadata": {},
   "source": [
    "## Has issues\n",
    "\n",
    "Boolean stating whether a repository allows users to address issues. An issue is way to keep track of the tasks, enchantments and bugs of the project. They can be discussed in a thread by users and developers. Each repository can enable their own issue page. An issue can be open, for example when a new bug is found, or closed, when it is solved. "
   ]
  },
  {
   "cell_type": "code",
   "execution_count": null,
   "metadata": {},
   "outputs": [],
   "source": [
    "repos['has_issues'].value_counts().plot.bar(fontsize = 12, title = 'Repository has issues')\n",
    "plt.savefig(Path(fp_figs, f'has_issues_{subset}.png'))"
   ]
  },
  {
   "cell_type": "markdown",
   "metadata": {},
   "source": [
    "## Open issues\n",
    "\n",
    "The amount of open issues a repository has"
   ]
  },
  {
   "cell_type": "code",
   "execution_count": null,
   "metadata": {},
   "outputs": [],
   "source": [
    "repos['open_issues'].value_counts().sort_index().plot.bar(fontsize = 12, title = 'Repository has open issues')\n",
    "plt.savefig(Path(fp_figs, f'open_issues_{subset}.png'))"
   ]
  },
  {
   "cell_type": "markdown",
   "metadata": {},
   "source": [
    "## Fork count\n",
    "\n",
    "A fork is a copy of a repository for another user."
   ]
  },
  {
   "cell_type": "code",
   "execution_count": null,
   "metadata": {},
   "outputs": [],
   "source": [
    "repos['forks'].plot.hist(fontsize = 12, title = 'Number of forks', bins = 25)\n",
    "plt.savefig(Path(fp_figs, f'forks_{subset}.png'))"
   ]
  },
  {
   "cell_type": "markdown",
   "metadata": {},
   "source": [
    "## Default branch\n",
    "\n",
    "The default branch is the standard branch of a repository."
   ]
  },
  {
   "cell_type": "code",
   "execution_count": null,
   "metadata": {},
   "outputs": [],
   "source": [
    "repos['default_branch'].value_counts().plot.bar(fontsize = 12, title = 'barplot default branch ')\n",
    "plt.savefig(Path(fp_figs, f'default_branch_{subset}.png'))"
   ]
  },
  {
   "cell_type": "markdown",
   "metadata": {},
   "source": [
    "## Homepage\n",
    "\n",
    "The homepage is often the personal website of the research group or user. "
   ]
  },
  {
   "cell_type": "code",
   "execution_count": null,
   "metadata": {},
   "outputs": [],
   "source": [
    "repos['homepage'].value_counts().nlargest(10).plot.bar(fontsize = 12, title = 'barplot 10 most occuring homepages ')\n",
    "plt.savefig(Path(fp_figs, f'homepage_{subset}.png'))"
   ]
  },
  {
   "cell_type": "markdown",
   "metadata": {},
   "source": [
    "## Most recent commits \n",
    "\n",
    "If a repository is really active, we expect them to be more FAIR. As stated, a higher FAIR score implies a repository that is easier to find and work with."
   ]
  },
  {
   "cell_type": "code",
   "execution_count": null,
   "metadata": {},
   "outputs": [],
   "source": [
    "months_ago_most_recent_commit =[]\n",
    "today = str(date.today())\n",
    "split_today = today.split('-')\n",
    "for date_item in repos['updated_at']:\n",
    "    split_date = date_item.split('-')\n",
    "    years_ago = int(split_today[0]) - int(split_date[0])\n",
    "    months_ago = 12 * years_ago + (int(split_today[1]) - int(split_date[1]))\n",
    "    months_ago_most_recent_commit.append(months_ago)\n",
    "repos['months_ago_most_recent_commit'] = months_ago_most_recent_commit"
   ]
  },
  {
   "cell_type": "code",
   "execution_count": null,
   "metadata": {},
   "outputs": [],
   "source": [
    "repos['months_ago_most_recent_commit'].plot(kind = 'hist', fontsize = 12, title = 'histogram for amount of months since the last commit') #Add x-axis months ago\n",
    "plt.savefig(Path(fp_figs, f'most_recent_commit_months_{subset}.png'))"
   ]
  },
  {
   "cell_type": "code",
   "execution_count": null,
   "metadata": {},
   "outputs": [],
   "source": [
    "print('mean contributors: {:.1f}'.format(statistics.mean(repos['months_ago_most_recent_commit'])))\n",
    "print('median contributors: {}'.format(statistics.median(repos['months_ago_most_recent_commit'])))\n"
   ]
  }
 ],
 "metadata": {
  "kernelspec": {
   "display_name": "Python 3 (ipykernel)",
   "language": "python",
   "name": "python3"
  },
  "language_info": {
   "codemirror_mode": {
    "name": "ipython",
    "version": 3
   },
   "file_extension": ".py",
   "mimetype": "text/x-python",
   "name": "python",
   "nbconvert_exporter": "python",
   "pygments_lexer": "ipython3",
   "version": "3.9.7"
  }
 },
 "nbformat": 4,
 "nbformat_minor": 2
}
